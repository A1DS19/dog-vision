{
 "cells": [
  {
   "cell_type": "markdown",
   "id": "4df89873",
   "metadata": {},
   "source": [
    "# Dog breed multi-class classifier\n",
    "\n",
    "> Building a multi class image classifier with tensorflow.\n",
    "\n",
    "## Problem\n",
    "\n",
    "> Identifying a breed of a dog given an image of a dog.\n",
    "\n",
    "## Data\n",
    "\n",
    "> Since this problem is based around unstructured data, the solution would be to use deep learning/transfer learning, the data can be found [here](https://www.kaggle.com/c/dog-breed-identification/data?select=sample_submission.csv)."
   ]
  },
  {
   "cell_type": "code",
   "execution_count": 3,
   "id": "190d262c",
   "metadata": {},
   "outputs": [
    {
     "name": "stdout",
     "output_type": "stream",
     "text": [
      "GPU: 1\n"
     ]
    }
   ],
   "source": [
    "import tensorflow as tf\n",
    "import tensorflow_hub as hub\n",
    "\n",
    "#check for GPU\n",
    "print(f'GPU: {len(tf.config.list_physical_devices(\"GPU\"))}')"
   ]
  },
  {
   "cell_type": "code",
   "execution_count": null,
   "id": "7ba8b01d",
   "metadata": {},
   "outputs": [],
   "source": []
  }
 ],
 "metadata": {
  "kernelspec": {
   "display_name": "Python [conda env:deep_learning] *",
   "language": "python",
   "name": "conda-env-deep_learning-py"
  },
  "language_info": {
   "codemirror_mode": {
    "name": "ipython",
    "version": 3
   },
   "file_extension": ".py",
   "mimetype": "text/x-python",
   "name": "python",
   "nbconvert_exporter": "python",
   "pygments_lexer": "ipython3",
   "version": "3.7.11"
  }
 },
 "nbformat": 4,
 "nbformat_minor": 5
}
