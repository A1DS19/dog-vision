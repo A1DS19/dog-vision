{
 "cells": [
  {
   "cell_type": "markdown",
   "id": "d70341eb",
   "metadata": {},
   "source": [
    "# Dog breed multi-class classifier\n",
    "\n",
    "> Building a multi class image classifier with tensorflow.\n",
    "\n",
    "## Problem\n",
    "\n",
    "> Identifying a breed of a dog given an image of a dog.\n",
    "\n",
    "## Data\n",
    "\n",
    "> Can be found [here](https://www.kaggle.com/c/dog-breed-identification/data?select=sample_submission.csv).\n"
   ]
  },
  {
   "cell_type": "code",
   "execution_count": null,
   "id": "b2700c14",
   "metadata": {},
   "outputs": [],
   "source": []
  }
 ],
 "metadata": {
  "kernelspec": {
   "display_name": "Python 3 (ipykernel)",
   "language": "python",
   "name": "python3"
  },
  "language_info": {
   "codemirror_mode": {
    "name": "ipython",
    "version": 3
   },
   "file_extension": ".py",
   "mimetype": "text/x-python",
   "name": "python",
   "nbconvert_exporter": "python",
   "pygments_lexer": "ipython3",
   "version": "3.9.7"
  }
 },
 "nbformat": 4,
 "nbformat_minor": 5
}
